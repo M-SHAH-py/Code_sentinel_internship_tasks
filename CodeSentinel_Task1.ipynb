{
 "cells": [
  {
   "metadata": {},
   "cell_type": "markdown",
   "source": "## Importing  Library & Loading Dataset",
   "id": "a822763f225830fd"
  },
  {
   "metadata": {
    "ExecuteTime": {
     "end_time": "2025-09-05T11:27:53.381052Z",
     "start_time": "2025-09-05T11:27:50.790105Z"
    }
   },
   "cell_type": "code",
   "source": [
    "from sklearn.datasets import load_iris\n",
    "\n",
    "# Load the Iris dataset\n",
    "iris = load_iris(as_frame=True)\n",
    "\n",
    "# Convert to DataFrame\n",
    "iris_df = iris.frame\n",
    "\n",
    "# Add target column (species)\n",
    "iris_df['target'] = iris.target\n",
    "\n",
    "# Select dataset to explore\n",
    "df = iris_df\n"
   ],
   "id": "b23d079f8fa288e6",
   "outputs": [],
   "execution_count": 1
  },
  {
   "metadata": {},
   "cell_type": "markdown",
   "source": "## Dataset Overview",
   "id": "e97510d52b2b859a"
  },
  {
   "metadata": {
    "ExecuteTime": {
     "end_time": "2025-09-05T11:28:29.156134Z",
     "start_time": "2025-09-05T11:28:29.140765Z"
    }
   },
   "cell_type": "code",
   "source": [
    "print(\"===== Dataset Overview =====\")\n",
    "print(f\"Number of rows: {df.shape[0]}\")\n",
    "print(f\"Number of columns: {df.shape[1]}\\n\")\n"
   ],
   "id": "abe6f7747f78b7c",
   "outputs": [
    {
     "name": "stdout",
     "output_type": "stream",
     "text": [
      "===== Dataset Overview =====\n",
      "Number of rows: 150\n",
      "Number of columns: 5\n",
      "\n"
     ]
    }
   ],
   "execution_count": 2
  },
  {
   "metadata": {},
   "cell_type": "markdown",
   "source": "## Column Names",
   "id": "163e5b3c5fc033db"
  },
  {
   "metadata": {
    "ExecuteTime": {
     "end_time": "2025-09-05T11:29:11.879498Z",
     "start_time": "2025-09-05T11:29:11.865197Z"
    }
   },
   "cell_type": "code",
   "source": [
    "print(\"===== Column Names =====\")\n",
    "print(df.columns.tolist(), \"\\n\")\n"
   ],
   "id": "ee14def768a2f671",
   "outputs": [
    {
     "name": "stdout",
     "output_type": "stream",
     "text": [
      "===== Column Names =====\n",
      "['sepal length (cm)', 'sepal width (cm)', 'petal length (cm)', 'petal width (cm)', 'target'] \n",
      "\n"
     ]
    }
   ],
   "execution_count": 3
  },
  {
   "metadata": {},
   "cell_type": "markdown",
   "source": "## Data Types",
   "id": "48c919212555cca6"
  },
  {
   "metadata": {
    "ExecuteTime": {
     "end_time": "2025-09-05T11:29:36.407871Z",
     "start_time": "2025-09-05T11:29:36.384223Z"
    }
   },
   "cell_type": "code",
   "source": [
    "print(\"===== Data Types =====\")\n",
    "print(df.dtypes, \"\\n\")\n"
   ],
   "id": "dbc64e3487e772c0",
   "outputs": [
    {
     "name": "stdout",
     "output_type": "stream",
     "text": [
      "===== Data Types =====\n",
      "sepal length (cm)    float64\n",
      "sepal width (cm)     float64\n",
      "petal length (cm)    float64\n",
      "petal width (cm)     float64\n",
      "target                 int64\n",
      "dtype: object \n",
      "\n"
     ]
    }
   ],
   "execution_count": 4
  },
  {
   "metadata": {},
   "cell_type": "markdown",
   "source": "## Summary Statistics",
   "id": "151e3da24b611043"
  },
  {
   "metadata": {
    "ExecuteTime": {
     "end_time": "2025-09-05T11:29:58.729600Z",
     "start_time": "2025-09-05T11:29:58.678761Z"
    }
   },
   "cell_type": "code",
   "source": [
    "print(\"===== Summary Statistics =====\")\n",
    "print(df.describe(include=\"all\"), \"\\n\")\n"
   ],
   "id": "9dcbe2a7ac7a2b9",
   "outputs": [
    {
     "name": "stdout",
     "output_type": "stream",
     "text": [
      "===== Summary Statistics =====\n",
      "       sepal length (cm)  sepal width (cm)  petal length (cm)  \\\n",
      "count         150.000000        150.000000         150.000000   \n",
      "mean            5.843333          3.057333           3.758000   \n",
      "std             0.828066          0.435866           1.765298   \n",
      "min             4.300000          2.000000           1.000000   \n",
      "25%             5.100000          2.800000           1.600000   \n",
      "50%             5.800000          3.000000           4.350000   \n",
      "75%             6.400000          3.300000           5.100000   \n",
      "max             7.900000          4.400000           6.900000   \n",
      "\n",
      "       petal width (cm)      target  \n",
      "count        150.000000  150.000000  \n",
      "mean           1.199333    1.000000  \n",
      "std            0.762238    0.819232  \n",
      "min            0.100000    0.000000  \n",
      "25%            0.300000    0.000000  \n",
      "50%            1.300000    1.000000  \n",
      "75%            1.800000    2.000000  \n",
      "max            2.500000    2.000000   \n",
      "\n"
     ]
    }
   ],
   "execution_count": 5
  },
  {
   "metadata": {},
   "cell_type": "markdown",
   "source": "## Missing Values Check",
   "id": "264296f07b8f3a03"
  },
  {
   "metadata": {
    "ExecuteTime": {
     "end_time": "2025-09-05T11:30:18.897804Z",
     "start_time": "2025-09-05T11:30:18.875570Z"
    }
   },
   "cell_type": "code",
   "source": [
    "print(\"===== Missing Values Check =====\")\n",
    "print(df.isnull().sum(), \"\\n\")\n"
   ],
   "id": "fbc6f0f478581856",
   "outputs": [
    {
     "name": "stdout",
     "output_type": "stream",
     "text": [
      "===== Missing Values Check =====\n",
      "sepal length (cm)    0\n",
      "sepal width (cm)     0\n",
      "petal length (cm)    0\n",
      "petal width (cm)     0\n",
      "target               0\n",
      "dtype: int64 \n",
      "\n"
     ]
    }
   ],
   "execution_count": 6
  },
  {
   "metadata": {},
   "cell_type": "markdown",
   "source": "## First 5 Rows",
   "id": "252978e638f2fef3"
  },
  {
   "metadata": {
    "ExecuteTime": {
     "end_time": "2025-09-05T11:30:37.875981Z",
     "start_time": "2025-09-05T11:30:37.860389Z"
    }
   },
   "cell_type": "code",
   "source": [
    "print(\"===== First 5 Rows =====\")\n",
    "print(df.head())\n"
   ],
   "id": "4280fd184acecc0b",
   "outputs": [
    {
     "name": "stdout",
     "output_type": "stream",
     "text": [
      "===== First 5 Rows =====\n",
      "   sepal length (cm)  sepal width (cm)  petal length (cm)  petal width (cm)  \\\n",
      "0                5.1               3.5                1.4               0.2   \n",
      "1                4.9               3.0                1.4               0.2   \n",
      "2                4.7               3.2                1.3               0.2   \n",
      "3                4.6               3.1                1.5               0.2   \n",
      "4                5.0               3.6                1.4               0.2   \n",
      "\n",
      "   target  \n",
      "0       0  \n",
      "1       0  \n",
      "2       0  \n",
      "3       0  \n",
      "4       0  \n"
     ]
    }
   ],
   "execution_count": 7
  }
 ],
 "metadata": {
  "kernelspec": {
   "display_name": "Python 3",
   "language": "python",
   "name": "python3"
  },
  "language_info": {
   "codemirror_mode": {
    "name": "ipython",
    "version": 2
   },
   "file_extension": ".py",
   "mimetype": "text/x-python",
   "name": "python",
   "nbconvert_exporter": "python",
   "pygments_lexer": "ipython2",
   "version": "2.7.6"
  }
 },
 "nbformat": 4,
 "nbformat_minor": 5
}
