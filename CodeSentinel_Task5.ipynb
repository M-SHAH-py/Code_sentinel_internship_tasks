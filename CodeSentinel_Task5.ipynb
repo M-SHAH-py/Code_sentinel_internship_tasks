{
 "cells": [
  {
   "metadata": {},
   "cell_type": "markdown",
   "source": [
    "# Twitter Sentiment Analysis using NLTK\n",
    "\n",
    "We will:\n",
    "- Load sample tweets dataset from NLTK (`twitter_samples`)\n",
    "- Preprocess the text (lowercase, remove stopwords, tokenize)\n",
    "- Apply **VADER** sentiment analyzer\n",
    "- Visualize positive vs negative counts\n"
   ],
   "id": "ba62de8c47aeb73d"
  },
  {
   "metadata": {
    "ExecuteTime": {
     "end_time": "2025-09-05T12:34:51.011713Z",
     "start_time": "2025-09-05T12:34:50.633668Z"
    }
   },
   "cell_type": "code",
   "source": [
    "import nltk\n",
    "from nltk.corpus import twitter_samples, stopwords\n",
    "from nltk.tokenize import word_tokenize\n",
    "from nltk.sentiment import SentimentIntensityAnalyzer\n",
    "import matplotlib.pyplot as plt\n",
    "import seaborn as sns\n",
    "\n",
    "# Download required datasets\n",
    "nltk.download('twitter_samples')\n",
    "nltk.download('stopwords')\n",
    "nltk.download('punkt')\n",
    "nltk.download('vader_lexicon')\n",
    "\n",
    "# Load positive and negative tweets\n",
    "positive_tweets = twitter_samples.strings('positive_tweets.json')\n",
    "negative_tweets = twitter_samples.strings('negative_tweets.json')\n",
    "\n",
    "print(\"Number of positive tweets:\", len(positive_tweets))\n",
    "print(\"Number of negative tweets:\", len(negative_tweets))\n"
   ],
   "id": "4b037845b282873f",
   "outputs": [
    {
     "name": "stderr",
     "output_type": "stream",
     "text": [
      "[nltk_data] Downloading package twitter_samples to\n",
      "[nltk_data]     C:\\Users\\shahz\\AppData\\Roaming\\nltk_data...\n",
      "[nltk_data]   Package twitter_samples is already up-to-date!\n",
      "[nltk_data] Downloading package stopwords to\n",
      "[nltk_data]     C:\\Users\\shahz\\AppData\\Roaming\\nltk_data...\n",
      "[nltk_data]   Package stopwords is already up-to-date!\n",
      "[nltk_data] Downloading package punkt to\n",
      "[nltk_data]     C:\\Users\\shahz\\AppData\\Roaming\\nltk_data...\n",
      "[nltk_data]   Package punkt is already up-to-date!\n",
      "[nltk_data] Downloading package vader_lexicon to\n",
      "[nltk_data]     C:\\Users\\shahz\\AppData\\Roaming\\nltk_data...\n",
      "[nltk_data]   Package vader_lexicon is already up-to-date!\n"
     ]
    },
    {
     "name": "stdout",
     "output_type": "stream",
     "text": [
      "Number of positive tweets: 5000\n",
      "Number of negative tweets: 5000\n"
     ]
    }
   ],
   "execution_count": 7
  },
  {
   "metadata": {},
   "cell_type": "markdown",
   "source": [
    "## Preprocessing Tweets\n",
    "We:\n",
    "- Lowercase all text\n",
    "- Tokenize\n",
    "- Remove stopwords\n"
   ],
   "id": "d84b966c407ca18b"
  },
  {
   "metadata": {
    "ExecuteTime": {
     "end_time": "2025-09-05T12:34:51.054393Z",
     "start_time": "2025-09-05T12:34:51.019955Z"
    }
   },
   "cell_type": "code",
   "source": [
    "stop_words = set(stopwords.words(\"english\"))\n",
    "\n",
    "# Extra download fix\n",
    "nltk.download('punkt_tab')\n",
    "\n",
    "def preprocess_tweet(tweet):\n",
    "    tokens = word_tokenize(tweet.lower())\n",
    "    clean_tokens = [word for word in tokens if word.isalnum() and word not in stop_words]\n",
    "    return \" \".join(clean_tokens)\n",
    "\n",
    "# Example before & after\n",
    "print(\"Original:\", positive_tweets[0])\n",
    "print(\"Processed:\", preprocess_tweet(positive_tweets[0]))\n"
   ],
   "id": "7726a56800fedf79",
   "outputs": [
    {
     "name": "stdout",
     "output_type": "stream",
     "text": [
      "Original: #FollowFriday @France_Inte @PKuchly57 @Milipol_Paris for being top engaged members in my community this week :)\n",
      "Processed: followfriday pkuchly57 top engaged members community week\n"
     ]
    },
    {
     "name": "stderr",
     "output_type": "stream",
     "text": [
      "[nltk_data] Downloading package punkt_tab to\n",
      "[nltk_data]     C:\\Users\\shahz\\AppData\\Roaming\\nltk_data...\n",
      "[nltk_data]   Package punkt_tab is already up-to-date!\n"
     ]
    }
   ],
   "execution_count": 8
  },
  {
   "metadata": {},
   "cell_type": "markdown",
   "source": [
    "## Sentiment Analysis with VADER\n",
    "We use **SentimentIntensityAnalyzer** to score tweets as positive/negative/neutral.\n"
   ],
   "id": "c767b1340fc911f9"
  },
  {
   "metadata": {
    "ExecuteTime": {
     "end_time": "2025-09-05T12:34:51.086011Z",
     "start_time": "2025-09-05T12:34:51.066125Z"
    }
   },
   "cell_type": "code",
   "source": [
    "sia = SentimentIntensityAnalyzer()\n",
    "\n",
    "def get_sentiment(tweet):\n",
    "    score = sia.polarity_scores(tweet)[\"compound\"]\n",
    "    if score > 0:\n",
    "        return \"positive\"\n",
    "    elif score < 0:\n",
    "        return \"negative\"\n",
    "    else:\n",
    "        return \"neutral\"\n",
    "\n",
    "# Test on a few tweets\n",
    "print(positive_tweets[0], \"->\", get_sentiment(positive_tweets[0]))\n",
    "print(negative_tweets[0], \"->\", get_sentiment(negative_tweets[0]))\n"
   ],
   "id": "5ce7b535e4e22b30",
   "outputs": [
    {
     "name": "stdout",
     "output_type": "stream",
     "text": [
      "#FollowFriday @France_Inte @PKuchly57 @Milipol_Paris for being top engaged members in my community this week :) -> positive\n",
      "hopeless for tmr :( -> negative\n"
     ]
    }
   ],
   "execution_count": 9
  },
  {
   "metadata": {},
   "cell_type": "markdown",
   "source": [
    "## Apply Sentiment Analysis on the Dataset\n",
    "We analyze **all tweets** and count how many are positive, negative, or neutral.\n"
   ],
   "id": "cbcfd32102fdb51f"
  },
  {
   "metadata": {
    "ExecuteTime": {
     "end_time": "2025-09-05T12:34:52.950554Z",
     "start_time": "2025-09-05T12:34:51.123445Z"
    }
   },
   "cell_type": "code",
   "source": [
    "# Combine tweets into one dataset\n",
    "all_tweets = positive_tweets + negative_tweets\n",
    "\n",
    "# Preprocess + analyze\n",
    "results = [get_sentiment(preprocess_tweet(tweet)) for tweet in all_tweets]\n",
    "\n",
    "# Count results\n",
    "from collections import Counter\n",
    "sentiment_counts = Counter(results)\n",
    "print(sentiment_counts)\n"
   ],
   "id": "1e1b1c71c3d856e1",
   "outputs": [
    {
     "name": "stdout",
     "output_type": "stream",
     "text": [
      "Counter({'positive': 4862, 'neutral': 3268, 'negative': 1870})\n"
     ]
    }
   ],
   "execution_count": 10
  },
  {
   "metadata": {},
   "cell_type": "markdown",
   "source": [
    "## Visualization\n",
    "We plot sentiment distribution using a bar chart.\n"
   ],
   "id": "c751a0620d8b3c94"
  },
  {
   "metadata": {
    "ExecuteTime": {
     "end_time": "2025-09-05T12:34:53.556269Z",
     "start_time": "2025-09-05T12:34:52.987907Z"
    }
   },
   "cell_type": "code",
   "source": [
    "sns.set_style(\"whitegrid\")\n",
    "plt.figure(figsize=(6,4))\n",
    "sns.barplot(x=list(sentiment_counts.keys()), y=list(sentiment_counts.values()), palette=\"coolwarm\")\n",
    "plt.title(\"Tweet Sentiment Distribution\")\n",
    "plt.xlabel(\"Sentiment\")\n",
    "plt.ylabel(\"Count\")\n",
    "plt.show()\n"
   ],
   "id": "226d2617bab8f09a",
   "outputs": [
    {
     "name": "stderr",
     "output_type": "stream",
     "text": [
      "C:\\Users\\shahz\\AppData\\Local\\Temp\\ipykernel_27064\\613541040.py:3: FutureWarning: \n",
      "\n",
      "Passing `palette` without assigning `hue` is deprecated and will be removed in v0.14.0. Assign the `x` variable to `hue` and set `legend=False` for the same effect.\n",
      "\n",
      "  sns.barplot(x=list(sentiment_counts.keys()), y=list(sentiment_counts.values()), palette=\"coolwarm\")\n"
     ]
    },
    {
     "data": {
      "text/plain": [
       "<Figure size 600x400 with 1 Axes>"
      ],
      "image/png": "[encoded data removed]"
     },
     "metadata": {},
     "output_type": "display_data",
     "jetTransient": {
      "display_id": null
     }
    }
   ],
   "execution_count": 11
  }
 ],
 "metadata": {
  "kernelspec": {
   "display_name": "Python 3",
   "language": "python",
   "name": "python3"
  },
  "language_info": {
   "codemirror_mode": {
    "name": "ipython",
    "version": 2
   },
   "file_extension": ".py",
   "mimetype": "text/x-python",
   "name": "python",
   "nbconvert_exporter": "python",
   "pygments_lexer": "ipython2",
   "version": "2.7.6"
  }
 },
 "nbformat": 4,
 "nbformat_minor": 5
}
